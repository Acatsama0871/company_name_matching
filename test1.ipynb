{
 "cells": [
  {
   "cell_type": "code",
   "execution_count": 1,
   "metadata": {},
   "outputs": [],
   "source": [
    "import os\n",
    "import pandas as pd\n",
    "from thefuzz import process, fuzz\n",
    "from typing import List, Tuple, Dict\n",
    "from tqdm import tqdm\n",
    "\n",
    "tqdm.pandas()"
   ]
  },
  {
   "cell_type": "code",
   "execution_count": 2,
   "metadata": {},
   "outputs": [],
   "source": [
    "# params\n",
    "focus_weight=0.8"
   ]
  },
  {
   "cell_type": "markdown",
   "metadata": {},
   "source": [
    "### Preprocess function"
   ]
  },
  {
   "cell_type": "code",
   "execution_count": 3,
   "metadata": {},
   "outputs": [],
   "source": [
    "to_remove_words_list = [\n",
    "    \"inc\",\n",
    "    \"inc.\",\n",
    "    \"incorporated\",\n",
    "    \"llc\",\n",
    "    \"l.l.c.\",\n",
    "    \"l.l.c\",\n",
    "    \"co.\",\n",
    "    \"securities\",\n",
    "    \"security\",\n",
    "    \"s.a.\",\n",
    "    \"s.a\",\n",
    "    \"l.p.\",\n",
    "    \"plc\",\n",
    "    \"ag\",\n",
    "    \"s.a.s\",\n",
    "    \"s.a.s.\",\n",
    "    \"s.p.a.\",\n",
    "    \"s.p.a\",\n",
    "    \"sa\",\n",
    "    \"ab\",\n",
    "    \"trust\",\n",
    "    \"limited\",\n",
    "    \"ltd\",\n",
    "    \"ltd.\",\n",
    "]\n",
    "\n",
    "replace_dict = {'bank corporation': 'bank', 'bank corporate': 'bank', 'bank corp': 'bank'}\n",
    "\n",
    "\n",
    "# functions\n",
    "def preprocess(cur_txt: str, to_remove_words_list: List=to_remove_words_list, replace_dict: Dict=replace_dict) -> str:\n",
    "    \"\"\"\n",
    "    Preprocess names before matching:\n",
    "    1. remove commas\n",
    "    2. replace by name\n",
    "    3. remove words in to_remove_words_list\n",
    "\n",
    "    Args:\n",
    "        cur_txt (str): current name\n",
    "        to_remove_words_list (List[srt]): list of words to remove\n",
    "\n",
    "    Returns:\n",
    "        str: preprocessed equity name\n",
    "    \"\"\"\n",
    "    #* 0. lower the name\n",
    "    cur_txt = cur_txt.lower()\n",
    "    #* 1. replace comma\n",
    "    cur_txt = cur_txt.replace(\",\", \"\")\n",
    "    #* 2. replace by name\n",
    "    for cur_key in replace_dict:\n",
    "        if cur_key in cur_txt:\n",
    "            cur_txt = cur_txt.replace(cur_key, replace_dict[cur_key])\n",
    "            break\n",
    "    #* 3. remove words in to_remove_words_list\n",
    "    cur_txt = cur_txt.split(\" \")\n",
    "    result_str_list = [\n",
    "        cur_word\n",
    "        for cur_word in cur_txt\n",
    "        if cur_word not in to_remove_words_list\n",
    "    ]\n",
    "\n",
    "    return \" \".join(result_str_list).strip()"
   ]
  },
  {
   "cell_type": "markdown",
   "metadata": {},
   "source": [
    "### Test"
   ]
  },
  {
   "cell_type": "code",
   "execution_count": 4,
   "metadata": {},
   "outputs": [],
   "source": [
    "cur_path = 'data/04_splits/00.csv'"
   ]
  },
  {
   "cell_type": "code",
   "execution_count": 5,
   "metadata": {},
   "outputs": [],
   "source": [
    "\n",
    "\n",
    "cur_target = pd.read_csv(cur_path)\n",
    "cur_target.head()\n",
    "cur_target = cur_target.iloc[:5, :]"
   ]
  },
  {
   "cell_type": "code",
   "execution_count": 6,
   "metadata": {},
   "outputs": [
    {
     "data": {
      "text/html": [
       "<div>\n",
       "<style scoped>\n",
       "    .dataframe tbody tr th:only-of-type {\n",
       "        vertical-align: middle;\n",
       "    }\n",
       "\n",
       "    .dataframe tbody tr th {\n",
       "        vertical-align: top;\n",
       "    }\n",
       "\n",
       "    .dataframe thead th {\n",
       "        text-align: right;\n",
       "    }\n",
       "</style>\n",
       "<table border=\"1\" class=\"dataframe\">\n",
       "  <thead>\n",
       "    <tr style=\"text-align: right;\">\n",
       "      <th></th>\n",
       "      <th>Full Name</th>\n",
       "      <th>No.</th>\n",
       "      <th>preprocessed</th>\n",
       "    </tr>\n",
       "  </thead>\n",
       "  <tbody>\n",
       "    <tr>\n",
       "      <th>0</th>\n",
       "      <td>1 MAJ Metalska</td>\n",
       "      <td>1</td>\n",
       "      <td>1 maj metalska</td>\n",
       "    </tr>\n",
       "    <tr>\n",
       "      <th>1</th>\n",
       "      <td>1 MAJ Zavrsni Rad Gradjevinarstvu</td>\n",
       "      <td>2</td>\n",
       "      <td>1 maj zavrsni rad gradjevinarstvu</td>\n",
       "    </tr>\n",
       "    <tr>\n",
       "      <th>2</th>\n",
       "      <td>1300 Smiles</td>\n",
       "      <td>3</td>\n",
       "      <td>1300 smiles</td>\n",
       "    </tr>\n",
       "    <tr>\n",
       "      <th>3</th>\n",
       "      <td>2 Park Street Trust</td>\n",
       "      <td>4</td>\n",
       "      <td>2 park street</td>\n",
       "    </tr>\n",
       "    <tr>\n",
       "      <th>4</th>\n",
       "      <td>25 Novembar Celinac</td>\n",
       "      <td>5</td>\n",
       "      <td>25 novembar celinac</td>\n",
       "    </tr>\n",
       "  </tbody>\n",
       "</table>\n",
       "</div>"
      ],
      "text/plain": [
       "                           Full Name  No.                        preprocessed\n",
       "0                     1 MAJ Metalska     1                     1 maj metalska\n",
       "1  1 MAJ Zavrsni Rad Gradjevinarstvu     2  1 maj zavrsni rad gradjevinarstvu\n",
       "2                        1300 Smiles     3                        1300 smiles\n",
       "3                2 Park Street Trust     4                      2 park street\n",
       "4                25 Novembar Celinac     5                25 novembar celinac"
      ]
     },
     "execution_count": 6,
     "metadata": {},
     "output_type": "execute_result"
    }
   ],
   "source": [
    "search_df = pd.read_csv('data/02_primary/search.csv')\n",
    "search_df['preprocessed'] = search_df['Full Name'].apply(preprocess)\n",
    "search_df.head()"
   ]
  },
  {
   "cell_type": "code",
   "execution_count": 7,
   "metadata": {},
   "outputs": [
    {
     "data": {
      "text/plain": [
       "Index(['Full Name', 'No. ', 'preprocessed'], dtype='object')"
      ]
     },
     "execution_count": 7,
     "metadata": {},
     "output_type": "execute_result"
    }
   ],
   "source": [
    "search_df.columns"
   ]
  },
  {
   "cell_type": "code",
   "execution_count": 8,
   "metadata": {},
   "outputs": [],
   "source": [
    "def keep_fist_n(cur_txt, n=1):\n",
    "    cur_txt_list = cur_txt.split(' ')\n",
    "    return ' '.join(cur_txt_list[:n])"
   ]
  },
  {
   "cell_type": "code",
   "execution_count": 9,
   "metadata": {},
   "outputs": [
    {
     "data": {
      "text/html": [
       "<div>\n",
       "<style scoped>\n",
       "    .dataframe tbody tr th:only-of-type {\n",
       "        vertical-align: middle;\n",
       "    }\n",
       "\n",
       "    .dataframe tbody tr th {\n",
       "        vertical-align: top;\n",
       "    }\n",
       "\n",
       "    .dataframe thead th {\n",
       "        text-align: right;\n",
       "    }\n",
       "</style>\n",
       "<table border=\"1\" class=\"dataframe\">\n",
       "  <thead>\n",
       "    <tr style=\"text-align: right;\">\n",
       "      <th></th>\n",
       "      <th>Target Name</th>\n",
       "      <th>Target No.</th>\n",
       "      <th>preprocessed</th>\n",
       "    </tr>\n",
       "  </thead>\n",
       "  <tbody>\n",
       "    <tr>\n",
       "      <th>0</th>\n",
       "      <td>3I Group PLC</td>\n",
       "      <td>190</td>\n",
       "      <td>3i group</td>\n",
       "    </tr>\n",
       "    <tr>\n",
       "      <th>1</th>\n",
       "      <td>3I INFRASTRUCTURE PLC</td>\n",
       "      <td>12378</td>\n",
       "      <td>3i infrastructure</td>\n",
       "    </tr>\n",
       "    <tr>\n",
       "      <th>2</th>\n",
       "      <td>4finance S.A.</td>\n",
       "      <td>15299</td>\n",
       "      <td>4finance</td>\n",
       "    </tr>\n",
       "    <tr>\n",
       "      <th>3</th>\n",
       "      <td>50Hertz Transmission GmbH</td>\n",
       "      <td>7693</td>\n",
       "      <td>50hertz transmission gmbh</td>\n",
       "    </tr>\n",
       "    <tr>\n",
       "      <th>4</th>\n",
       "      <td>6PM HOLDINGS P.L.C.</td>\n",
       "      <td>15484</td>\n",
       "      <td>6pm holdings p.l.c.</td>\n",
       "    </tr>\n",
       "  </tbody>\n",
       "</table>\n",
       "</div>"
      ],
      "text/plain": [
       "                 Target Name  Target No.               preprocessed\n",
       "0               3I Group PLC         190                   3i group\n",
       "1      3I INFRASTRUCTURE PLC       12378          3i infrastructure\n",
       "2              4finance S.A.       15299                   4finance\n",
       "3  50Hertz Transmission GmbH        7693  50hertz transmission gmbh\n",
       "4        6PM HOLDINGS P.L.C.       15484        6pm holdings p.l.c."
      ]
     },
     "execution_count": 9,
     "metadata": {},
     "output_type": "execute_result"
    }
   ],
   "source": [
    "cur_target['preprocessed'] = cur_target['Target Name'].apply(preprocess)\n",
    "cur_target.head()"
   ]
  },
  {
   "cell_type": "code",
   "execution_count": 10,
   "metadata": {},
   "outputs": [],
   "source": [
    "def extract_func(cur_focus_txt: str, cur_txt, search_df):\n",
    "    cur_df = search_df.copy()\n",
    "    cur_df['cur_focus_search_score'] = cur_df['preprocessed'].apply(lambda x: fuzz.partial_ratio(cur_focus_txt, x))\n",
    "    cur_df['cur_simple_score'] = cur_df['preprocessed'].apply(lambda x: fuzz.ratio(cur_txt, x))\n",
    "    cur_df['final_score'] = cur_df['cur_focus_search_score'] * focus_weight + cur_df['cur_simple_score'] * (1 - focus_weight)\n",
    "    cur_df = cur_df.sort_values('final_score', ascending=False)\n",
    "    \n",
    "    # return the first one\n",
    "    return cur_focus_txt, cur_df.iloc[0]['Full Name'], cur_df.iloc[0]['No. '], cur_df.iloc[0]['final_score']"
   ]
  },
  {
   "cell_type": "code",
   "execution_count": 11,
   "metadata": {},
   "outputs": [
    {
     "name": "stderr",
     "output_type": "stream",
     "text": [
      "  0%|          | 0/3 [00:00<?, ?it/s]"
     ]
    },
    {
     "name": "stdout",
     "output_type": "stream",
     "text": [
      "(5, 3)\n"
     ]
    },
    {
     "name": "stderr",
     "output_type": "stream",
     "text": [
      "5it [00:19,  3.88s/it]\n",
      " 33%|███▎      | 1/3 [00:19<00:38, 19.42s/it]"
     ]
    },
    {
     "name": "stdout",
     "output_type": "stream",
     "text": [
      "(5, 3)\n"
     ]
    },
    {
     "name": "stderr",
     "output_type": "stream",
     "text": [
      "5it [00:27,  5.42s/it]\n",
      " 67%|██████▋   | 2/3 [00:46<00:23, 23.95s/it]"
     ]
    },
    {
     "name": "stdout",
     "output_type": "stream",
     "text": [
      "(5, 3)\n"
     ]
    },
    {
     "name": "stderr",
     "output_type": "stream",
     "text": [
      "5it [00:28,  5.75s/it]\n",
      "100%|██████████| 3/3 [01:15<00:00, 25.10s/it]\n"
     ]
    }
   ],
   "source": [
    "matched_df = cur_target.copy()\n",
    "# match first one, first two, first three\n",
    "cur_first_dict = {1: 'First', 2: 'Second', 3: 'Third'}\n",
    "for cur_first_n in tqdm(range(1, 4)):\n",
    "    # get target df\n",
    "    cur_target_df = cur_target.copy()\n",
    "    print(cur_target_df.shape)\n",
    "    cur_target_df['cur_focus_target'] = cur_target_df['preprocessed'].apply(keep_fist_n, n=cur_first_n)\n",
    "    # apply function\n",
    "    cur_focus_txt_list = []\n",
    "    cur_matched_name_list = []\n",
    "    cur_matched_no_list = []\n",
    "    cur_matched_score_list = []\n",
    "    for _, cur_row in tqdm(cur_target_df.iterrows()):\n",
    "        cur_focus_txt, cur_matched_name, cur_matched_no, cur_matched_score = extract_func(cur_row['cur_focus_target'], cur_row['preprocessed'], search_df)\n",
    "        cur_focus_txt_list.append(cur_focus_txt)\n",
    "        cur_matched_name_list.append(cur_matched_name)\n",
    "        cur_matched_no_list.append(cur_matched_no)\n",
    "        cur_matched_score_list.append(cur_matched_score)\n",
    "    # add to matched df\n",
    "    matched_df[f'{cur_first_dict[cur_first_n]} word'] = cur_focus_txt_list\n",
    "    matched_df[f'Top matched name for {cur_first_dict[cur_first_n]} word'] = cur_matched_name_list\n",
    "    matched_df[f'Top matched No. for {cur_first_dict[cur_first_n]} word'] = cur_matched_name_list\n",
    "    matched_df[f'Matched score for {cur_first_dict[cur_first_n]} word'] = cur_matched_score_list"
   ]
  },
  {
   "cell_type": "code",
   "execution_count": 12,
   "metadata": {},
   "outputs": [
    {
     "data": {
      "text/html": [
       "<div>\n",
       "<style scoped>\n",
       "    .dataframe tbody tr th:only-of-type {\n",
       "        vertical-align: middle;\n",
       "    }\n",
       "\n",
       "    .dataframe tbody tr th {\n",
       "        vertical-align: top;\n",
       "    }\n",
       "\n",
       "    .dataframe thead th {\n",
       "        text-align: right;\n",
       "    }\n",
       "</style>\n",
       "<table border=\"1\" class=\"dataframe\">\n",
       "  <thead>\n",
       "    <tr style=\"text-align: right;\">\n",
       "      <th></th>\n",
       "      <th>Target Name</th>\n",
       "      <th>Target No.</th>\n",
       "      <th>preprocessed</th>\n",
       "      <th>First word</th>\n",
       "      <th>Top matched name for First word</th>\n",
       "      <th>Top matched No. for First word</th>\n",
       "      <th>Matched score for First word</th>\n",
       "      <th>Second word</th>\n",
       "      <th>Top matched name for Second word</th>\n",
       "      <th>Top matched No. for Second word</th>\n",
       "      <th>Matched score for Second word</th>\n",
       "      <th>Third word</th>\n",
       "      <th>Top matched name for Third word</th>\n",
       "      <th>Top matched No. for Third word</th>\n",
       "      <th>Matched score for Third word</th>\n",
       "    </tr>\n",
       "  </thead>\n",
       "  <tbody>\n",
       "    <tr>\n",
       "      <th>0</th>\n",
       "      <td>3I Group PLC</td>\n",
       "      <td>190</td>\n",
       "      <td>3i group</td>\n",
       "      <td>3i</td>\n",
       "      <td>3I Infotech</td>\n",
       "      <td>3I Infotech</td>\n",
       "      <td>88.4</td>\n",
       "      <td>3i group</td>\n",
       "      <td>Securities Group</td>\n",
       "      <td>Securities Group</td>\n",
       "      <td>95.4</td>\n",
       "      <td>3i group</td>\n",
       "      <td>Securities Group</td>\n",
       "      <td>Securities Group</td>\n",
       "      <td>95.4</td>\n",
       "    </tr>\n",
       "    <tr>\n",
       "      <th>1</th>\n",
       "      <td>3I INFRASTRUCTURE PLC</td>\n",
       "      <td>12378</td>\n",
       "      <td>3i infrastructure</td>\n",
       "      <td>3i</td>\n",
       "      <td>3I Infotech</td>\n",
       "      <td>3I Infotech</td>\n",
       "      <td>91.4</td>\n",
       "      <td>3i infrastructure</td>\n",
       "      <td>A Infrastructure</td>\n",
       "      <td>A Infrastructure</td>\n",
       "      <td>93.4</td>\n",
       "      <td>3i infrastructure</td>\n",
       "      <td>A Infrastructure</td>\n",
       "      <td>A Infrastructure</td>\n",
       "      <td>93.4</td>\n",
       "    </tr>\n",
       "    <tr>\n",
       "      <th>2</th>\n",
       "      <td>4finance S.A.</td>\n",
       "      <td>15299</td>\n",
       "      <td>4finance</td>\n",
       "      <td>4finance</td>\n",
       "      <td>INA</td>\n",
       "      <td>INA</td>\n",
       "      <td>91.0</td>\n",
       "      <td>4finance</td>\n",
       "      <td>INA</td>\n",
       "      <td>INA</td>\n",
       "      <td>91.0</td>\n",
       "      <td>4finance</td>\n",
       "      <td>INA</td>\n",
       "      <td>INA</td>\n",
       "      <td>91.0</td>\n",
       "    </tr>\n",
       "    <tr>\n",
       "      <th>3</th>\n",
       "      <td>50Hertz Transmission GmbH</td>\n",
       "      <td>7693</td>\n",
       "      <td>50hertz transmission gmbh</td>\n",
       "      <td>50hertz</td>\n",
       "      <td>Hertz</td>\n",
       "      <td>Hertz</td>\n",
       "      <td>86.6</td>\n",
       "      <td>50hertz transmission</td>\n",
       "      <td>Hertz</td>\n",
       "      <td>Hertz</td>\n",
       "      <td>86.6</td>\n",
       "      <td>50hertz transmission gmbh</td>\n",
       "      <td>Hertz</td>\n",
       "      <td>Hertz</td>\n",
       "      <td>86.6</td>\n",
       "    </tr>\n",
       "    <tr>\n",
       "      <th>4</th>\n",
       "      <td>6PM HOLDINGS P.L.C.</td>\n",
       "      <td>15484</td>\n",
       "      <td>6pm holdings p.l.c.</td>\n",
       "      <td>6pm</td>\n",
       "      <td>6PM Holdings</td>\n",
       "      <td>6PM Holdings</td>\n",
       "      <td>95.4</td>\n",
       "      <td>6pm holdings</td>\n",
       "      <td>6PM Holdings</td>\n",
       "      <td>6PM Holdings</td>\n",
       "      <td>95.4</td>\n",
       "      <td>6pm holdings p.l.c.</td>\n",
       "      <td>6PM Holdings</td>\n",
       "      <td>6PM Holdings</td>\n",
       "      <td>95.4</td>\n",
       "    </tr>\n",
       "  </tbody>\n",
       "</table>\n",
       "</div>"
      ],
      "text/plain": [
       "                 Target Name  Target No.               preprocessed  \\\n",
       "0               3I Group PLC         190                   3i group   \n",
       "1      3I INFRASTRUCTURE PLC       12378          3i infrastructure   \n",
       "2              4finance S.A.       15299                   4finance   \n",
       "3  50Hertz Transmission GmbH        7693  50hertz transmission gmbh   \n",
       "4        6PM HOLDINGS P.L.C.       15484        6pm holdings p.l.c.   \n",
       "\n",
       "  First word Top matched name for First word Top matched No. for First word  \\\n",
       "0         3i                     3I Infotech                    3I Infotech   \n",
       "1         3i                     3I Infotech                    3I Infotech   \n",
       "2   4finance                             INA                            INA   \n",
       "3    50hertz                           Hertz                          Hertz   \n",
       "4        6pm                    6PM Holdings                   6PM Holdings   \n",
       "\n",
       "   Matched score for First word           Second word  \\\n",
       "0                          88.4              3i group   \n",
       "1                          91.4     3i infrastructure   \n",
       "2                          91.0              4finance   \n",
       "3                          86.6  50hertz transmission   \n",
       "4                          95.4          6pm holdings   \n",
       "\n",
       "  Top matched name for Second word Top matched No. for Second word  \\\n",
       "0                 Securities Group                Securities Group   \n",
       "1                 A Infrastructure                A Infrastructure   \n",
       "2                              INA                             INA   \n",
       "3                            Hertz                           Hertz   \n",
       "4                     6PM Holdings                    6PM Holdings   \n",
       "\n",
       "   Matched score for Second word                 Third word  \\\n",
       "0                           95.4                   3i group   \n",
       "1                           93.4          3i infrastructure   \n",
       "2                           91.0                   4finance   \n",
       "3                           86.6  50hertz transmission gmbh   \n",
       "4                           95.4        6pm holdings p.l.c.   \n",
       "\n",
       "  Top matched name for Third word Top matched No. for Third word  \\\n",
       "0                Securities Group               Securities Group   \n",
       "1                A Infrastructure               A Infrastructure   \n",
       "2                             INA                            INA   \n",
       "3                           Hertz                          Hertz   \n",
       "4                    6PM Holdings                   6PM Holdings   \n",
       "\n",
       "   Matched score for Third word  \n",
       "0                          95.4  \n",
       "1                          93.4  \n",
       "2                          91.0  \n",
       "3                          86.6  \n",
       "4                          95.4  "
      ]
     },
     "execution_count": 12,
     "metadata": {},
     "output_type": "execute_result"
    }
   ],
   "source": [
    "matched_df"
   ]
  },
  {
   "cell_type": "code",
   "execution_count": null,
   "metadata": {},
   "outputs": [],
   "source": []
  }
 ],
 "metadata": {
  "kernelspec": {
   "display_name": "Python 3.9.12 ('base_env')",
   "language": "python",
   "name": "python3"
  },
  "language_info": {
   "codemirror_mode": {
    "name": "ipython",
    "version": 3
   },
   "file_extension": ".py",
   "mimetype": "text/x-python",
   "name": "python",
   "nbconvert_exporter": "python",
   "pygments_lexer": "ipython3",
   "version": "3.9.12"
  },
  "orig_nbformat": 4,
  "vscode": {
   "interpreter": {
    "hash": "ea57f8ffba09633efa022ea1e2936fe77dafc7af9e2fff9c325ddf7d60cd6a04"
   }
  }
 },
 "nbformat": 4,
 "nbformat_minor": 2
}
